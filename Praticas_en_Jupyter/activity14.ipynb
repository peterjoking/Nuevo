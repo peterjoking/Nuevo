{
 "cells": [
  {
   "cell_type": "code",
   "execution_count": 1,
   "metadata": {},
   "outputs": [],
   "source": [
    "#Add a num_sides property to the Polygon class that returns the number of sides.\n",
    "\n",
    "#Add a perimeter property to the Polygon class.\n",
    "#Add a docstring to the Polygon class.\n",
    "#Add a __str__ method to the Polygon class that represents the polygon as \"Polygon with X sides\", where X is the actual number of sides of the Polygon instance.\n",
    "#Create a child class called Rectangle, which accepts two arguments from the user in the init method: height and width.\n",
    "#Add an area property to Rectangle.\n",
    "#Create a Rectangle object and check the computation of the area and perimeter. You should get the following output:\n",
    "#(5, 12)\n",
    "#Create a child class called Square that inherits from Rectangle. You should only take one argument from the user when initializing a square.\n",
    "#Create a Square object and check the computation of the area and perimeter. You should get the following output:\n",
    "#(25, 20)\n",
    "class Polygon():\n",
    "    \"\"\"Esta es la clase padre de los polígonos\"\"\"\n",
    "    def __init__(self, side_lengths):\n",
    "        self.side_lengths = side_lengths\n",
    "    def __str__(self):\n",
    "        return 'Polygon with %s sides' % self.num_sides\n",
    "    @property\n",
    "    def num_sides(self):\n",
    "        return len(self.side_lengths)\n",
    "    \n",
    "    @property\n",
    "    def perimeter(self):\n",
    "        return sum(self.side_lengths)\n",
    "    "
   ]
  },
  {
   "cell_type": "code",
   "execution_count": 2,
   "metadata": {},
   "outputs": [],
   "source": [
    "class Rectangle(Polygon):\n",
    "    def __init__(self, height, width):\n",
    "        super().__init__([height, width, height, width])\n",
    "        \n",
    "    @property\n",
    "    def area(self):\n",
    "        return self.side_lengths[0] * self.side_lengths[1]"
   ]
  },
  {
   "cell_type": "code",
   "execution_count": 8,
   "metadata": {},
   "outputs": [
    {
     "data": {
      "text/plain": [
       "type"
      ]
     },
     "execution_count": 8,
     "metadata": {},
     "output_type": "execute_result"
    }
   ],
   "source": [
    "type(Rectangle)"
   ]
  },
  {
   "cell_type": "code",
   "execution_count": 3,
   "metadata": {},
   "outputs": [
    {
     "data": {
      "text/plain": [
       "(5, 12)"
      ]
     },
     "execution_count": 3,
     "metadata": {},
     "output_type": "execute_result"
    }
   ],
   "source": [
    "r = Rectangle(1, 5)\n",
    "r.area, r.perimeter"
   ]
  },
  {
   "cell_type": "code",
   "execution_count": 4,
   "metadata": {},
   "outputs": [],
   "source": [
    "#Create a child class of Rectangle called Square that takes a single height parameter in its initialization:\n",
    "class Square(Rectangle):\n",
    "    def __init__(self, height):\n",
    "        super().__init__(height, height)"
   ]
  },
  {
   "cell_type": "code",
   "execution_count": 5,
   "metadata": {},
   "outputs": [
    {
     "data": {
      "text/plain": [
       "(25, 20)"
      ]
     },
     "execution_count": 5,
     "metadata": {},
     "output_type": "execute_result"
    }
   ],
   "source": [
    "s = Square(5)\n",
    "s.area, s.perimeter"
   ]
  },
  {
   "cell_type": "code",
   "execution_count": 6,
   "metadata": {},
   "outputs": [
    {
     "data": {
      "text/plain": [
       "__main__.Square"
      ]
     },
     "execution_count": 6,
     "metadata": {},
     "output_type": "execute_result"
    }
   ],
   "source": [
    "type(s)"
   ]
  },
  {
   "cell_type": "code",
   "execution_count": 7,
   "metadata": {},
   "outputs": [
    {
     "data": {
      "text/plain": [
       "type"
      ]
     },
     "execution_count": 7,
     "metadata": {},
     "output_type": "execute_result"
    }
   ],
   "source": [
    "type(Rectangle)"
   ]
  },
  {
   "cell_type": "code",
   "execution_count": 10,
   "metadata": {},
   "outputs": [
    {
     "data": {
      "text/plain": [
       "__main__.Rectangle"
      ]
     },
     "execution_count": 10,
     "metadata": {},
     "output_type": "execute_result"
    }
   ],
   "source": [
    "type(r)"
   ]
  },
  {
   "cell_type": "code",
   "execution_count": 14,
   "metadata": {},
   "outputs": [
    {
     "data": {
      "text/plain": [
       "False"
      ]
     },
     "execution_count": 14,
     "metadata": {},
     "output_type": "execute_result"
    }
   ],
   "source": [
    "isinstance(s,str)"
   ]
  },
  {
   "cell_type": "code",
   "execution_count": null,
   "metadata": {},
   "outputs": [],
   "source": []
  }
 ],
 "metadata": {
  "kernelspec": {
   "display_name": "Python 3",
   "language": "python",
   "name": "python3"
  },
  "language_info": {
   "codemirror_mode": {
    "name": "ipython",
    "version": 3
   },
   "file_extension": ".py",
   "mimetype": "text/x-python",
   "name": "python",
   "nbconvert_exporter": "python",
   "pygments_lexer": "ipython3",
   "version": "3.7.6"
  }
 },
 "nbformat": 4,
 "nbformat_minor": 4
}
