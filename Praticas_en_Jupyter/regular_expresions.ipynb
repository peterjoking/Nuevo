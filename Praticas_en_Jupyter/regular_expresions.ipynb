{
 "cells": [
  {
   "cell_type": "code",
   "execution_count": 7,
   "metadata": {},
   "outputs": [
    {
     "name": "stdout",
     "output_type": "stream",
     "text": [
      "<re.Match object; span=(47, 49), match='ss'>\n"
     ]
    }
   ],
   "source": [
    "import re\n",
    "oracion = \"es esta oración hay alguna letra repetida? en esspañol es raro...salvo Perro, acción...\"\n",
    "pattern = \"(\\w)\\\\1+\"\n",
    "print(re.search(pattern, oracion))"
   ]
  },
  {
   "cell_type": "code",
   "execution_count": 11,
   "metadata": {},
   "outputs": [
    {
     "name": "stdout",
     "output_type": "stream",
     "text": [
      "The Norwegian Blue is a wonderful Super-parrot. This Super-parrot is notable for its exquisite plumage.\n"
     ]
    }
   ],
   "source": [
    "import re\n",
    "description = \"The Norwegian Blue is a wonderful parrot. This parrot is notable for its exquisite plumage.\"\n",
    "pattern = \"(parrot)\"\n",
    "replacement = \"Super-\\\\1\"\n",
    "print(re.sub(pattern, replacement, description))"
   ]
  },
  {
   "cell_type": "code",
   "execution_count": 26,
   "metadata": {},
   "outputs": [
    {
     "name": "stdin",
     "output_type": "stream",
     "text": [
      "nuevo nombre: Michele\n"
     ]
    },
    {
     "name": "stdout",
     "output_type": "stream",
     "text": [
      "Oi, Michele como está vc? Gostaria de convidar vc  conhecer nossos produtos Cosméticos Naturais, MicheleMistica Qualquer coisa q desejar nós entregamos em Mogi sem custo de frete. Agradeço a atenção. Obrigado. Pedro\n"
     ]
    }
   ],
   "source": [
    "import re\n",
    "description = \"Oi, nombre como está vc? Gostaria de convidar vc  conhecer nossos produtos Cosméticos Naturais, MicheleMistica Qualquer coisa q desejar nós entregamos em Mogi sem custo de frete. Agradeço a atenção. Obrigado. Pedro\"\n",
    "\n",
    "\n",
    "pattern = \"(nombre)\"\n",
    "nuevo = str(input(\"nuevo nombre:\"))\n",
    "replacement = nuevo\n",
    "print(re.sub(pattern, replacement, description))"
   ]
  },
  {
   "cell_type": "code",
   "execution_count": 27,
   "metadata": {},
   "outputs": [
    {
     "name": "stdout",
     "output_type": "stream",
     "text": [
      "['Xander Harris', 'Amy Alexandrescu', 'Weifung Xu']\n"
     ]
    }
   ],
   "source": [
    "#activity 21. \n",
    "import re\n",
    "candidatos = ['Xander Harris', 'Jennifer Smith', 'Timothy Jones', 'Amy Alexandrescu', 'Peter Price','Weifung Xu']\n",
    "winners = [name for name in candidatos if re.search(\"[Xx]\", name)]\n",
    "print(winners)"
   ]
  },
  {
   "cell_type": "code",
   "execution_count": null,
   "metadata": {},
   "outputs": [],
   "source": []
  }
 ],
 "metadata": {
  "kernelspec": {
   "display_name": "Python 3",
   "language": "python",
   "name": "python3"
  },
  "language_info": {
   "codemirror_mode": {
    "name": "ipython",
    "version": 3
   },
   "file_extension": ".py",
   "mimetype": "text/x-python",
   "name": "python",
   "nbconvert_exporter": "python",
   "pygments_lexer": "ipython3",
   "version": "3.7.6"
  }
 },
 "nbformat": 4,
 "nbformat_minor": 4
}
