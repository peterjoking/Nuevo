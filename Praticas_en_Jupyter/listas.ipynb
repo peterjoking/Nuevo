{
 "cells": [
  {
   "cell_type": "code",
   "execution_count": 1,
   "metadata": {},
   "outputs": [
    {
     "data": {
      "text/plain": [
       "['cama', 'computadora', 'colchón', 'mesa']"
      ]
     },
     "execution_count": 1,
     "metadata": {},
     "output_type": "execute_result"
    }
   ],
   "source": [
    "listadecosas = ['cama','colchón','mesa']\n",
    "listadecosas.insert(1,'computadora')\n",
    "listadecosas"
   ]
  },
  {
   "cell_type": "code",
   "execution_count": 2,
   "metadata": {},
   "outputs": [
    {
     "data": {
      "text/plain": [
       "{'Title': 'The Grandfather',\n",
       " 'Director': 'Francis Ford',\n",
       " 'Year': 1992,\n",
       " 'rating': 9.2}"
      ]
     },
     "execution_count": 2,
     "metadata": {},
     "output_type": "execute_result"
    }
   ],
   "source": [
    "movie = {'Title':'The Grandfather', 'Director':'Francis Ford', 'Year': 1992, 'rating':9.2 }\n",
    "movie"
   ]
  },
  {
   "cell_type": "code",
   "execution_count": 3,
   "metadata": {},
   "outputs": [
    {
     "name": "stdout",
     "output_type": "stream",
     "text": [
      "{'Title': 'The Grandfather', 'Director': 'Francis Ford', 'Year': 1992, 'rating': 9.2}\n"
     ]
    }
   ],
   "source": [
    "print(movie)"
   ]
  },
  {
   "cell_type": "code",
   "execution_count": 6,
   "metadata": {},
   "outputs": [
    {
     "name": "stdout",
     "output_type": "stream",
     "text": [
      "9.1\n"
     ]
    }
   ],
   "source": [
    "movie['rating'] = (movie['rating']+ 9)/2\n",
    "print(movie['rating'])\n"
   ]
  },
  {
   "cell_type": "code",
   "execution_count": 5,
   "metadata": {},
   "outputs": [
    {
     "data": {
      "text/plain": [
       "1992"
      ]
     },
     "execution_count": 5,
     "metadata": {},
     "output_type": "execute_result"
    }
   ],
   "source": [
    "movie['Year']"
   ]
  },
  {
   "cell_type": "code",
   "execution_count": 8,
   "metadata": {},
   "outputs": [
    {
     "data": {
      "text/plain": [
       "[{'name': 'John Mackee', 'Age': 39, 'Department': 'Sales'},\n",
       " {'name': 'Lisa Crawford', 'Age': 29, 'Department': 'Marketing'},\n",
       " {'name': 'Sujan Patel', 'Age': 33, 'Department': 'HR'}]"
      ]
     },
     "execution_count": 8,
     "metadata": {},
     "output_type": "execute_result"
    }
   ],
   "source": [
    "employees = [{'name':'John Mackee', 'Age':39, 'Department':'Sales'},{'name': 'Lisa Crawford', 'Age':29, 'Department':'Marketing'},{'name':'Sujan Patel', 'Age':33, 'Department':'HR'}]\n",
    "\n",
    "employees"
   ]
  },
  {
   "cell_type": "code",
   "execution_count": 9,
   "metadata": {},
   "outputs": [
    {
     "data": {
      "text/plain": [
       "{'name': 'Lisa Crawford', 'Age': 29, 'Department': 'Marketing'}"
      ]
     },
     "execution_count": 9,
     "metadata": {},
     "output_type": "execute_result"
    }
   ],
   "source": [
    "employees[1]"
   ]
  },
  {
   "cell_type": "code",
   "execution_count": 19,
   "metadata": {},
   "outputs": [],
   "source": [
    "def todos():\n",
    "    for employee in employees:\n",
    "        print('Name', employee['name'])\n",
    "        print('Age: {}'.format(employee['Age']))\n",
    "        print('Department: {}'.format(employee['Department']))\n",
    "        print('-------------------------')\n",
    "\n"
   ]
  },
  {
   "cell_type": "code",
   "execution_count": 20,
   "metadata": {},
   "outputs": [
    {
     "name": "stdout",
     "output_type": "stream",
     "text": [
      "Name John Mackee\n",
      "Age: 39\n",
      "Department: Sales\n",
      "-------------------------\n",
      "Name Lisa Crawford\n",
      "Age: 29\n",
      "Department: Marketing\n",
      "-------------------------\n",
      "Name Sujan Patel\n",
      "Age: 33\n",
      "Department: HR\n",
      "-------------------------\n"
     ]
    }
   ],
   "source": [
    "todos()"
   ]
  },
  {
   "cell_type": "code",
   "execution_count": 23,
   "metadata": {},
   "outputs": [
    {
     "name": "stdin",
     "output_type": "stream",
     "text": [
      "Ingrese el nombre de quien desea la información: John Mackee\n"
     ]
    },
    {
     "name": "stdout",
     "output_type": "stream",
     "text": [
      "-------------------------\n",
      "Name John Mackee\n",
      "Age: 39\n",
      "Department: Sales\n",
      "-------------------------\n"
     ]
    }
   ],
   "source": [
    "buscarnombre = input('Ingrese el nombre de quien desea la información:')\n",
    "for employee in employees:\n",
    "    if  employee['name']== buscarnombre:\n",
    "        print('-------------------------')\n",
    "        print('Name', employee['name'])\n",
    "        print('Age: {}'.format(employee['Age']))\n",
    "        print('Department: {}'.format(employee['Department']))\n",
    "        print('-------------------------')"
   ]
  },
  {
   "cell_type": "code",
   "execution_count": 24,
   "metadata": {},
   "outputs": [
    {
     "name": "stdout",
     "output_type": "stream",
     "text": [
      "{'pera': 12, 'bana': 21, 'manzana': 22}\n"
     ]
    }
   ],
   "source": [
    "frutas =['pera', 'bana', 'manzana']\n",
    "precio =[12, 21, 22]\n",
    "\n",
    "precio_frutas =zip(frutas, precio)\n",
    "print(dict(precio_frutas))"
   ]
  },
  {
   "cell_type": "code",
   "execution_count": 32,
   "metadata": {},
   "outputs": [
    {
     "name": "stdout",
     "output_type": "stream",
     "text": [
      "(('pera', 12), ('bana', 21), ('manzana', 22))\n"
     ]
    }
   ],
   "source": [
    "precio_frutas1 = tuple(zip(frutas, precio))\n",
    "print(precio_frutas1)"
   ]
  },
  {
   "cell_type": "code",
   "execution_count": 33,
   "metadata": {},
   "outputs": [
    {
     "name": "stdout",
     "output_type": "stream",
     "text": [
      "[('pera', 12), ('bana', 21), ('manzana', 22)]\n",
      "{'pera': 12, 'bana': 21, 'manzana': 22}\n"
     ]
    }
   ],
   "source": [
    "precio_frutas2 = list(zip(frutas, precio))\n",
    "print(precio_frutas2)\n",
    "\n",
    "precio_frutas3 = dict(zip(frutas, precio))\n",
    "print(precio_frutas3)"
   ]
  },
  {
   "cell_type": "code",
   "execution_count": 30,
   "metadata": {},
   "outputs": [
    {
     "name": "stdout",
     "output_type": "stream",
     "text": [
      "{}\n"
     ]
    }
   ],
   "source": [
    "print(dict(precio_frutas))"
   ]
  },
  {
   "cell_type": "code",
   "execution_count": null,
   "metadata": {},
   "outputs": [],
   "source": []
  }
 ],
 "metadata": {
  "kernelspec": {
   "display_name": "Python 3",
   "language": "python",
   "name": "python3"
  },
  "language_info": {
   "codemirror_mode": {
    "name": "ipython",
    "version": 3
   },
   "file_extension": ".py",
   "mimetype": "text/x-python",
   "name": "python",
   "nbconvert_exporter": "python",
   "pygments_lexer": "ipython3",
   "version": "3.7.6"
  }
 },
 "nbformat": 4,
 "nbformat_minor": 4
}
