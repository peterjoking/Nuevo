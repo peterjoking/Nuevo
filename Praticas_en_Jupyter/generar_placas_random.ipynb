{
 "cells": [
  {
   "cell_type": "code",
   "execution_count": 1,
   "metadata": {},
   "outputs": [
    {
     "name": "stdout",
     "output_type": "stream",
     "text": [
      "JPK 9997\n",
      "EUX 1020\n",
      "KSP 9952\n",
      "QOK 4638\n",
      "EIF 3029\n",
      "DKN 6629\n",
      "RKF 8047\n",
      "WGS 4817\n",
      "ERZ 5151\n",
      "EJJ 5956\n",
      "KZI 6459\n",
      "TUP 8865\n",
      "BUD 9709\n",
      "DYU 0877\n",
      "UOI 8823\n",
      "UIA 3830\n",
      "CLR 1952\n",
      "QFU 9423\n",
      "AKQ 2283\n",
      "ZPF 6746\n"
     ]
    }
   ],
   "source": [
    "import random\n",
    "letras = 'ABCDEFGHIJKLMNOPQRSTUVWXYZ'\n",
    "numeros= '0123456789'\n",
    "\n",
    "total_placas = 20\n",
    "\n",
    "for i in range(total_placas):\n",
    "    letra1 = random.choice(letras)\n",
    "    letra2 = random.choice(letras)\n",
    "    letra3 = random.choice(letras)\n",
    "    \n",
    "    numero1 = random.choice(numeros)\n",
    "    numero2 = random.choice(numeros)\n",
    "    numero3 = random.choice(numeros)\n",
    "    numero4 = random.choice(numeros)\n",
    "    \n",
    "    print('{}{}{} {}{}{}{}'.format(letra1,letra2,letra3, numero1,numero2,numero3,numero4))\n",
    "    "
   ]
  },
  {
   "cell_type": "code",
   "execution_count": null,
   "metadata": {},
   "outputs": [],
   "source": []
  }
 ],
 "metadata": {
  "kernelspec": {
   "display_name": "Python 3",
   "language": "python",
   "name": "python3"
  },
  "language_info": {
   "codemirror_mode": {
    "name": "ipython",
    "version": 3
   },
   "file_extension": ".py",
   "mimetype": "text/x-python",
   "name": "python",
   "nbconvert_exporter": "python",
   "pygments_lexer": "ipython3",
   "version": "3.7.6"
  }
 },
 "nbformat": 4,
 "nbformat_minor": 4
}
