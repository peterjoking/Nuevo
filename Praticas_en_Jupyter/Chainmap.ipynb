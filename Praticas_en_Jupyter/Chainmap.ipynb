{
 "cells": [
  {
   "cell_type": "code",
   "execution_count": 3,
   "metadata": {},
   "outputs": [],
   "source": [
    "import collections\n",
    "_defaults = {\n",
    "    \"apetisers\": \"Hummus\",\n",
    "    \"main\": \"Pizza\",\n",
    "    \"desert\": \"Chocolate cake\",\n",
    "    \"drink\": \"Water\",\n",
    "}\n",
    "def prepare_menu(customizations):\n",
    "    return collections.ChainMap(customizations, _defaults)\n",
    "def print_menu(menu):\n",
    "    for key, value in menu.items():\n",
    "        print(f\"Tenemos {key}: {value}.\")"
   ]
  },
  {
   "cell_type": "code",
   "execution_count": 4,
   "metadata": {},
   "outputs": [
    {
     "name": "stdout",
     "output_type": "stream",
     "text": [
      "Tenemos apetisers: Hummus.\n",
      "Tenemos main: Pizza.\n",
      "Tenemos desert: Chocolate cake.\n",
      "Tenemos drink: Water.\n"
     ]
    }
   ],
   "source": [
    "menu1 = prepare_menu({})\n",
    "print_menu(menu1)"
   ]
  },
  {
   "cell_type": "code",
   "execution_count": 5,
   "metadata": {},
   "outputs": [
    {
     "name": "stdout",
     "output_type": "stream",
     "text": [
      "Tenemos apetisers: Hummus.\n",
      "Tenemos main: Pizza.\n",
      "Tenemos desert: Chocolate cake.\n",
      "Tenemos drink: Water.\n",
      "Tenemos side: French fries.\n"
     ]
    }
   ],
   "source": [
    "menu3 = prepare_menu({\"side\": \"French fries\"})\n",
    "print_menu(menu3)"
   ]
  },
  {
   "cell_type": "code",
   "execution_count": 6,
   "metadata": {},
   "outputs": [
    {
     "name": "stdout",
     "output_type": "stream",
     "text": [
      "Tenemos apetisers: Hummus.\n",
      "Tenemos main: Pizza.\n",
      "Tenemos desert: Chocolate cake.\n",
      "Tenemos drink: Water.\n",
      "Tenemos Postre Premium: Heladito de poronga.\n"
     ]
    }
   ],
   "source": [
    "menu4 = prepare_menu({\"Postre Premium\":\"Heladito de poronga\"})\n",
    "print_menu(menu4)"
   ]
  },
  {
   "cell_type": "code",
   "execution_count": 7,
   "metadata": {},
   "outputs": [
    {
     "name": "stdout",
     "output_type": "stream",
     "text": [
      "Help on built-in function print in module builtins:\n",
      "\n",
      "print(...)\n",
      "    print(value, ..., sep=' ', end='\\n', file=sys.stdout, flush=False)\n",
      "    \n",
      "    Prints the values to a stream, or to sys.stdout by default.\n",
      "    Optional keyword arguments:\n",
      "    file:  a file-like object (stream); defaults to the current sys.stdout.\n",
      "    sep:   string inserted between values, default a space.\n",
      "    end:   string appended after the last value, default a newline.\n",
      "    flush: whether to forcibly flush the stream.\n",
      "\n"
     ]
    }
   ],
   "source": [
    "help(print)\n"
   ]
  },
  {
   "cell_type": "code",
   "execution_count": 8,
   "metadata": {},
   "outputs": [
    {
     "name": "stderr",
     "output_type": "stream",
     "text": [
      "Hello stderr\n"
     ]
    }
   ],
   "source": [
    "import sys\n",
    "print(\"Hello stderr\", file=sys.stderr)"
   ]
  },
  {
   "cell_type": "code",
   "execution_count": 9,
   "metadata": {},
   "outputs": [
    {
     "name": "stderr",
     "output_type": "stream",
     "text": [
      "Hello stderr\n"
     ]
    }
   ],
   "source": [
    "import functools\n",
    "print_stderr = functools.partial(print, file=sys.stderr)\n",
    "print_stderr(\"Hello stderr\")"
   ]
  },
  {
   "cell_type": "code",
   "execution_count": 11,
   "metadata": {},
   "outputs": [
    {
     "name": "stderr",
     "output_type": "stream",
     "text": [
      "Hello stderr\n",
      "Hola putos\n"
     ]
    }
   ],
   "source": [
    "print3 = functools.partial(print, file=sys.stderr)\n",
    "print3(\"Hello stderr\")\n",
    "print3(\"Hola putos\")"
   ]
  },
  {
   "cell_type": "code",
   "execution_count": null,
   "metadata": {},
   "outputs": [],
   "source": []
  }
 ],
 "metadata": {
  "kernelspec": {
   "display_name": "Python 3",
   "language": "python",
   "name": "python3"
  },
  "language_info": {
   "codemirror_mode": {
    "name": "ipython",
    "version": 3
   },
   "file_extension": ".py",
   "mimetype": "text/x-python",
   "name": "python",
   "nbconvert_exporter": "python",
   "pygments_lexer": "ipython3",
   "version": "3.7.6"
  }
 },
 "nbformat": 4,
 "nbformat_minor": 4
}
