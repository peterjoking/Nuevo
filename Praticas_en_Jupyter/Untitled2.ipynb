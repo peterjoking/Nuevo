{
 "cells": [
  {
   "cell_type": "code",
   "execution_count": 5,
   "metadata": {},
   "outputs": [
    {
     "name": "stdin",
     "output_type": "stream",
     "text": [
      "ingrese la cantidad de números de la lista:\n",
      " 3\n",
      "ingrese los números: \n",
      " 4\n",
      "ingrese los números: \n",
      " 5\n",
      "ingrese los números: \n",
      " 2\n"
     ]
    },
    {
     "name": "stdout",
     "output_type": "stream",
     "text": [
      "la lista es: [4, 5, 2], y el máximo es:\n",
      "\n",
      "5\n"
     ]
    }
   ],
   "source": [
    "lista_uno =[]\n",
    "lista =int(input(\"ingrese la cantidad de números de la lista:\\n\"))\n",
    "\n",
    "for i in range(lista):\n",
    "    cada_numero = int(input(\"ingrese los números: \\n\"))\n",
    "    lista_uno.append(cada_numero)\n",
    "    \n",
    "maximo = 0\n",
    "for numero in lista_uno:\n",
    "    if numero > maximo: \n",
    "        maximo = numero\n",
    "        \n",
    "if __name__==\"__main__\":   \n",
    "    print(\"la lista es: {}, y el máximo es:\\n\".format(lista_uno))      \n",
    "    print(maximo)\n"
   ]
  },
  {
   "cell_type": "raw",
   "metadata": {},
   "source": []
  }
 ],
 "metadata": {
  "kernelspec": {
   "display_name": "Python 3",
   "language": "python",
   "name": "python3"
  },
  "language_info": {
   "codemirror_mode": {
    "name": "ipython",
    "version": 3
   },
   "file_extension": ".py",
   "mimetype": "text/x-python",
   "name": "python",
   "nbconvert_exporter": "python",
   "pygments_lexer": "ipython3",
   "version": "3.7.6"
  }
 },
 "nbformat": 4,
 "nbformat_minor": 4
}
