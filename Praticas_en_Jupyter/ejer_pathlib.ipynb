{
 "cells": [
  {
   "cell_type": "code",
   "execution_count": 1,
   "metadata": {},
   "outputs": [],
   "source": [
    "import pathlib\n",
    "p = pathlib.Path(\"\")"
   ]
  },
  {
   "cell_type": "code",
   "execution_count": 2,
   "metadata": {},
   "outputs": [
    {
     "name": "stdout",
     "output_type": "stream",
     "text": [
      "*.txt: [WindowsPath('log.txt'), WindowsPath('pg37431.txt'), WindowsPath('untitled.txt')]\n"
     ]
    }
   ],
   "source": [
    "txt_files = p.glob(\"*.txt\")\n",
    "print(\"*.txt:\", list(txt_files))"
   ]
  },
  {
   "cell_type": "code",
   "execution_count": 3,
   "metadata": {},
   "outputs": [
    {
     "name": "stdout",
     "output_type": "stream",
     "text": [
      "todos [WindowsPath('.ipynb_checkpoints'), WindowsPath('Activity11.ipynb'), WindowsPath('activity14.ipynb'), WindowsPath('appoitment system.ipynb'), WindowsPath('argumento_funciones.ipynb'), WindowsPath('busqueda_binaria.py'), WindowsPath('Classes.ipynb'), WindowsPath('classes_ejerc.ipynb'), WindowsPath('Class_2.ipynb'), WindowsPath('class_3.ipynb'), WindowsPath('class_4.ipynb'), WindowsPath('class_method.ipynb'), WindowsPath('customer.py'), WindowsPath('datetime.ipynb'), WindowsPath('datetime2.ipynb'), WindowsPath('dynamic.py'), WindowsPath('Ejerc_property_Fullname.ipynb'), WindowsPath('ejer_pathlib.ipynb'), WindowsPath('erjecio_graficos.py'), WindowsPath('factorial con recursiva e iterativa.ipynb'), WindowsPath('graficos_matplotlib.ipynb'), WindowsPath('grafico_3D.ipynb'), WindowsPath('grafico_barras.ipynb'), WindowsPath('grafico_torta.ipynb'), WindowsPath('heatmap_grafico.ipynb'), WindowsPath('hora_actual.py'), WindowsPath('inherit from person class.ipynb'), WindowsPath('kwargs.ipynb'), WindowsPath('lamda.ipynb'), WindowsPath('listas.ipynb'), WindowsPath('listas2.ipynb'), WindowsPath('log.txt'), WindowsPath('matrices.ipynb'), WindowsPath('maximo.py'), WindowsPath('multiply.py'), WindowsPath('my_module.py'), WindowsPath('my_script.py'), WindowsPath('numpay_ej1.ipynb'), WindowsPath('open_write.ipynb'), WindowsPath('ordenar_lista.ipynb'), WindowsPath('par_o_impar.ipynb'), WindowsPath('pg37431.txt'), WindowsPath('property_decorator.ipynb'), WindowsPath('return_print.ipynb'), WindowsPath('set.ipynb'), WindowsPath('setter_method.ipynb'), WindowsPath('single inheritance.ipynb'), WindowsPath('static methode.ipynb'), WindowsPath('sys_platform_os.ipynb'), WindowsPath('test1.ipynb'), WindowsPath('time_time.ipynb'), WindowsPath('today.py'), WindowsPath('Untitled.ipynb'), WindowsPath('untitled.txt'), WindowsPath('Untitled1.ipynb'), WindowsPath('Untitled2.ipynb'), WindowsPath('Untitled3.ipynb'), WindowsPath('Untitled4.ipynb'), WindowsPath('Untitled5.ipynb'), WindowsPath('Untitled6.ipynb'), WindowsPath('Untitled7.ipynb'), WindowsPath('Untitled8.ipynb')]\n"
     ]
    }
   ],
   "source": [
    "todos = p.glob(\"*.*\")\n",
    "print(\"todos\", list(todos))"
   ]
  },
  {
   "cell_type": "code",
   "execution_count": 5,
   "metadata": {},
   "outputs": [],
   "source": [
    "p = pathlib.Path.cwd()"
   ]
  },
  {
   "cell_type": "code",
   "execution_count": 6,
   "metadata": {},
   "outputs": [
    {
     "name": "stdout",
     "output_type": "stream",
     "text": [
      "*.txt: [WindowsPath('C:/Users/Pedro/Nuevo/Praticas_en_Jupyter/log.txt'), WindowsPath('C:/Users/Pedro/Nuevo/Praticas_en_Jupyter/pg37431.txt'), WindowsPath('C:/Users/Pedro/Nuevo/Praticas_en_Jupyter/untitled.txt')]\n"
     ]
    }
   ],
   "source": [
    "txt_files = p.glob(\"*.txt\")\n",
    "print(\"*.txt:\", list(txt_files))"
   ]
  },
  {
   "cell_type": "code",
   "execution_count": 7,
   "metadata": {},
   "outputs": [
    {
     "name": "stdout",
     "output_type": "stream",
     "text": [
      "**/*.txt: [WindowsPath('C:/Users/Pedro/Nuevo/Praticas_en_Jupyter/log.txt'), WindowsPath('C:/Users/Pedro/Nuevo/Praticas_en_Jupyter/pg37431.txt'), WindowsPath('C:/Users/Pedro/Nuevo/Praticas_en_Jupyter/untitled.txt'), WindowsPath('C:/Users/Pedro/Nuevo/Praticas_en_Jupyter/.ipynb_checkpoints/log-checkpoint.txt'), WindowsPath('C:/Users/Pedro/Nuevo/Praticas_en_Jupyter/.ipynb_checkpoints/pg37431-checkpoint.txt'), WindowsPath('C:/Users/Pedro/Nuevo/Praticas_en_Jupyter/.ipynb_checkpoints/untitled-checkpoint.txt')]\n"
     ]
    }
   ],
   "source": [
    "print(\"**/*.txt:\", list(p.glob(\"**/*.txt\")))"
   ]
  },
  {
   "cell_type": "code",
   "execution_count": 8,
   "metadata": {},
   "outputs": [
    {
     "data": {
      "text/plain": [
       "['__name__',\n",
       " '__doc__',\n",
       " '__package__',\n",
       " '__loader__',\n",
       " '__spec__',\n",
       " '__file__',\n",
       " '__cached__',\n",
       " '__builtins__',\n",
       " 'fnmatch',\n",
       " 'functools',\n",
       " 'io',\n",
       " 'ntpath',\n",
       " 'os',\n",
       " 'posixpath',\n",
       " 're',\n",
       " 'sys',\n",
       " 'Sequence',\n",
       " 'EINVAL',\n",
       " 'ENOENT',\n",
       " 'ENOTDIR',\n",
       " 'EBADF',\n",
       " 'ELOOP',\n",
       " 'attrgetter',\n",
       " 'S_ISDIR',\n",
       " 'S_ISLNK',\n",
       " 'S_ISREG',\n",
       " 'S_ISSOCK',\n",
       " 'S_ISBLK',\n",
       " 'S_ISCHR',\n",
       " 'S_ISFIFO',\n",
       " 'urlquote_from_bytes',\n",
       " 'supports_symlinks',\n",
       " 'nt',\n",
       " '_getfinalpathname',\n",
       " '__all__',\n",
       " '_IGNORED_ERROS',\n",
       " '_IGNORED_WINERRORS',\n",
       " '_ignore_error',\n",
       " '_is_wildcard_pattern',\n",
       " '_Flavour',\n",
       " '_WindowsFlavour',\n",
       " '_PosixFlavour',\n",
       " '_windows_flavour',\n",
       " '_posix_flavour',\n",
       " '_Accessor',\n",
       " '_NormalAccessor',\n",
       " '_normal_accessor',\n",
       " '_make_selector',\n",
       " '_Selector',\n",
       " '_TerminatingSelector',\n",
       " '_PreciseSelector',\n",
       " '_WildcardSelector',\n",
       " '_RecursiveWildcardSelector',\n",
       " '_PathParents',\n",
       " 'PurePath',\n",
       " 'PurePosixPath',\n",
       " 'PureWindowsPath',\n",
       " 'Path',\n",
       " 'PosixPath',\n",
       " 'WindowsPath']"
      ]
     },
     "execution_count": 8,
     "metadata": {},
     "output_type": "execute_result"
    }
   ],
   "source": [
    "pathlib.__dir__()\n"
   ]
  },
  {
   "cell_type": "code",
   "execution_count": 9,
   "metadata": {},
   "outputs": [],
   "source": [
    "p = pathlib.Path.home()"
   ]
  },
  {
   "cell_type": "code",
   "execution_count": 10,
   "metadata": {},
   "outputs": [
    {
     "name": "stdout",
     "output_type": "stream",
     "text": [
      "[WindowsPath('C:/Users/Pedro/.android'), WindowsPath('C:/Users/Pedro/.AndroidStudio3.5'), WindowsPath('C:/Users/Pedro/.bash_history'), WindowsPath('C:/Users/Pedro/.conda'), WindowsPath('C:/Users/Pedro/.condarc'), WindowsPath('C:/Users/Pedro/.config'), WindowsPath('C:/Users/Pedro/.dbus-keyrings'), WindowsPath('C:/Users/Pedro/.gitconfig'), WindowsPath('C:/Users/Pedro/.gradle'), WindowsPath('C:/Users/Pedro/.idea'), WindowsPath('C:/Users/Pedro/.idlerc'), WindowsPath('C:/Users/Pedro/.ipynb_checkpoints'), WindowsPath('C:/Users/Pedro/.ipython'), WindowsPath('C:/Users/Pedro/.irpf'), WindowsPath('C:/Users/Pedro/.jupyter'), WindowsPath('C:/Users/Pedro/.matplotlib'), WindowsPath('C:/Users/Pedro/.oracle_jre_usage'), WindowsPath('C:/Users/Pedro/.PyCharmCE2019.3'), WindowsPath('C:/Users/Pedro/.python_history'), WindowsPath('C:/Users/Pedro/.receitanet'), WindowsPath('C:/Users/Pedro/.recently-used.xbel'), WindowsPath('C:/Users/Pedro/.rfb'), WindowsPath('C:/Users/Pedro/.VirtualBox')]\n"
     ]
    }
   ],
   "source": [
    "print(list(p.glob(\".*\")))"
   ]
  },
  {
   "cell_type": "code",
   "execution_count": null,
   "metadata": {},
   "outputs": [],
   "source": []
  },
  {
   "cell_type": "code",
   "execution_count": null,
   "metadata": {},
   "outputs": [],
   "source": []
  },
  {
   "cell_type": "code",
   "execution_count": null,
   "metadata": {},
   "outputs": [],
   "source": []
  }
 ],
 "metadata": {
  "kernelspec": {
   "display_name": "Python 3",
   "language": "python",
   "name": "python3"
  },
  "language_info": {
   "codemirror_mode": {
    "name": "ipython",
    "version": 3
   },
   "file_extension": ".py",
   "mimetype": "text/x-python",
   "name": "python",
   "nbconvert_exporter": "python",
   "pygments_lexer": "ipython3",
   "version": "3.7.6"
  }
 },
 "nbformat": 4,
 "nbformat_minor": 4
}
