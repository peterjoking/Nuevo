{
 "cells": [
  {
   "cell_type": "code",
   "execution_count": 1,
   "metadata": {},
   "outputs": [
    {
     "name": "stdin",
     "output_type": "stream",
     "text": [
      "ingrese un número: 8\n"
     ]
    },
    {
     "name": "stdout",
     "output_type": "stream",
     "text": [
      "el número 8, es par\n"
     ]
    }
   ],
   "source": [
    "numero=0\n",
    "while True:\n",
    "    try:\n",
    "        numero =int(input(\"ingrese un número:\"))\n",
    "    except ValueError:\n",
    "        print(\"No ha ingresado ningún número. Pruebe otra vez, números y no letras\")\n",
    "        continue\n",
    "    else:\n",
    "        if numero %2==0:\n",
    "            print(\"el número {}, es par\".format(numero))\n",
    "            break\n",
    "        else:\n",
    "            print(\"el número\", numero, \"es impar\")\n",
    "            break\n",
    "             \n",
    "            \n"
   ]
  },
  {
   "cell_type": "code",
   "execution_count": null,
   "metadata": {},
   "outputs": [],
   "source": []
  },
  {
   "cell_type": "code",
   "execution_count": null,
   "metadata": {},
   "outputs": [],
   "source": []
  }
 ],
 "metadata": {
  "kernelspec": {
   "display_name": "Python 3",
   "language": "python",
   "name": "python3"
  },
  "language_info": {
   "codemirror_mode": {
    "name": "ipython",
    "version": 3
   },
   "file_extension": ".py",
   "mimetype": "text/x-python",
   "name": "python",
   "nbconvert_exporter": "python",
   "pygments_lexer": "ipython3",
   "version": "3.7.6"
  }
 },
 "nbformat": 4,
 "nbformat_minor": 4
}
