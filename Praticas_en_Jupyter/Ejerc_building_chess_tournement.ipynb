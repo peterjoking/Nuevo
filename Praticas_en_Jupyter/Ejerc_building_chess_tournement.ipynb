{
 "cells": [
  {
   "cell_type": "code",
   "execution_count": 2,
   "metadata": {},
   "outputs": [
    {
     "name": "stdout",
     "output_type": "stream",
     "text": [
      "['Juna Carlos vs. Airon', 'Juna Carlos vs. Ze Miranda', 'Juna Carlos vs. Francisco', 'Airon vs. Juna Carlos', 'Airon vs. Ze Miranda', 'Airon vs. Francisco', 'Ze Miranda vs. Juna Carlos', 'Ze Miranda vs. Airon', 'Ze Miranda vs. Francisco', 'Francisco vs. Juna Carlos', 'Francisco vs. Airon', 'Francisco vs. Ze Miranda']\n"
     ]
    }
   ],
   "source": [
    "#definir la lista de participantes\n",
    "\n",
    "participantes = ['Juna Carlos', 'Airon', 'Ze Miranda', 'Francisco']\n",
    "fixture = [f\"{p1} vs. {p2}\" for p1 in participantes for p2 in participantes if p1!=p2]\n",
    "print(fixture)\n"
   ]
  },
  {
   "cell_type": "code",
   "execution_count": null,
   "metadata": {},
   "outputs": [],
   "source": []
  }
 ],
 "metadata": {
  "kernelspec": {
   "display_name": "Python 3",
   "language": "python",
   "name": "python3"
  },
  "language_info": {
   "codemirror_mode": {
    "name": "ipython",
    "version": 3
   },
   "file_extension": ".py",
   "mimetype": "text/x-python",
   "name": "python",
   "nbconvert_exporter": "python",
   "pygments_lexer": "ipython3",
   "version": "3.7.6"
  }
 },
 "nbformat": 4,
 "nbformat_minor": 4
}
