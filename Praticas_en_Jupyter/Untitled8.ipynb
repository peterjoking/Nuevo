{
 "cells": [
  {
   "cell_type": "code",
   "execution_count": 39,
   "metadata": {},
   "outputs": [
    {
     "name": "stdout",
     "output_type": "stream",
     "text": [
      "|xxxxxxxxxx|#########|xxxxxxxxxxx|########|########|xxxxxxxxxxxx|#######|#######|#######|xxxxxxxxxxxxx|######|######|######|######|xxxxxxxxxxxxxx|#####|#####|#####|#####|#####|xxxxxxxxxxxxxxx|####|####|####|####|####|####|xxxxxxxxxxxxxxxx|###|###|###|###|###|###|###|xxxxxxxxxxxxxxxxx|##|##|##|##|##|##|##|##|xxxxxxxxxxxxxxxxxx|#|#|#|#|#|#|#|#|#|xxxxxxxxxxxxxxxxxxx"
     ]
    }
   ],
   "source": [
    "num =10\n",
    "for i in range(num):\n",
    "    for j in range (i):\n",
    "        print('|', end='#'*(num-i))\n",
    "    print('|', end='x'*(num+i))"
   ]
  },
  {
   "cell_type": "code",
   "execution_count": 41,
   "metadata": {},
   "outputs": [
    {
     "name": "stdout",
     "output_type": "stream",
     "text": [
      "+\n",
      "* +\n",
      "* * +\n",
      "* * * +\n",
      "* * * * +\n",
      "* * * * * +\n",
      "* * * * * * +\n",
      "* * * * * * * +\n",
      "* * * * * * * * +\n",
      "* * * * * * * * * +\n",
      "* * * * * * * * * * -\n",
      "* * * * * * * * * -\n",
      "* * * * * * * * -\n",
      "* * * * * * * -\n",
      "* * * * * * -\n",
      "* * * * * -\n",
      "* * * * -\n",
      "* * * -\n",
      "* * -\n",
      "* -\n"
     ]
    }
   ],
   "source": [
    "num =10\n",
    "for i in range(num):\n",
    "    for j in range (i):\n",
    "        print('* ', end='')\n",
    "    print('+')\n",
    "for i in range(num,0,-1):\n",
    "    for j in range (i):\n",
    "        print('* ', end='')\n",
    "    print('-')"
   ]
  },
  {
   "cell_type": "code",
   "execution_count": null,
   "metadata": {},
   "outputs": [],
   "source": []
  }
 ],
 "metadata": {
  "kernelspec": {
   "display_name": "Python 3",
   "language": "python",
   "name": "python3"
  },
  "language_info": {
   "codemirror_mode": {
    "name": "ipython",
    "version": 3
   },
   "file_extension": ".py",
   "mimetype": "text/x-python",
   "name": "python",
   "nbconvert_exporter": "python",
   "pygments_lexer": "ipython3",
   "version": "3.7.6"
  }
 },
 "nbformat": 4,
 "nbformat_minor": 4
}
