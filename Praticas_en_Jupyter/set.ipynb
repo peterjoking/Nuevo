{
 "cells": [
  {
   "cell_type": "code",
   "execution_count": 1,
   "metadata": {},
   "outputs": [
    {
     "name": "stdout",
     "output_type": "stream",
     "text": [
      "{1, 2, 3, 4, 5, 6}\n",
      "{1, 2, 3, 4, 5, 6}\n",
      "{1, 2, 3, 4, 5, 6}\n"
     ]
    }
   ],
   "source": [
    "s1 = set([1,2,3,4,5,6])\n",
    "print(s1)\n",
    "s2 = set([1,2,2,3,4,4,5,6,6])\n",
    "print(s2)\n",
    "s3 = set([3,4,5,6,6,6,1,1,2])\n",
    "print(s3)"
   ]
  },
  {
   "cell_type": "code",
   "execution_count": 2,
   "metadata": {},
   "outputs": [
    {
     "data": {
      "text/plain": [
       "set"
      ]
     },
     "execution_count": 2,
     "metadata": {},
     "output_type": "execute_result"
    }
   ],
   "source": [
    "type(s1)"
   ]
  },
  {
   "cell_type": "code",
   "execution_count": 3,
   "metadata": {},
   "outputs": [
    {
     "name": "stdout",
     "output_type": "stream",
     "text": [
      "{'peras', 'naranja', 'banana'}\n",
      "{'peras', 'banana'}\n"
     ]
    }
   ],
   "source": [
    "s4 ={'banana','naranja', 'peras'}\n",
    "print(s4)\n",
    "s5 = {'banana','banana', 'peras'}\n",
    "print(s5)"
   ]
  },
  {
   "cell_type": "code",
   "execution_count": 4,
   "metadata": {},
   "outputs": [
    {
     "name": "stdout",
     "output_type": "stream",
     "text": [
      "{'ananas', 'peras', 'banana'}\n"
     ]
    }
   ],
   "source": [
    "s5.add('ananas')\n",
    "print(s5)"
   ]
  },
  {
   "cell_type": "code",
   "execution_count": 6,
   "metadata": {},
   "outputs": [
    {
     "name": "stdout",
     "output_type": "stream",
     "text": [
      "{1, 2, 3, 4, 5, 6}\n",
      "{1, 2, 3, 4, 5, 6}\n",
      "{1, 2, 3, 4, 5, 6}\n"
     ]
    }
   ],
   "source": [
    "#operaciones con conjntos \"set\"\n",
    "s6 = {1,2,3,4}\n",
    "s7 = {3,4,5,6}\n",
    "#la union es realizada por el operador | o por el método \"union\"\n",
    "s8 = s6 | s7\n",
    "print(s8)\n",
    "print(s6 | s7)\n",
    "print(s6.union(s8))\n"
   ]
  },
  {
   "cell_type": "code",
   "execution_count": 8,
   "metadata": {},
   "outputs": [
    {
     "name": "stdout",
     "output_type": "stream",
     "text": [
      "{3, 4}\n",
      "{3, 4}\n"
     ]
    }
   ],
   "source": [
    "# operaicones de intersección por el operador \"&\" o por el método \"intersection()\"\n",
    "s9 = s6 & s7\n",
    "print(s9)\n",
    "print(s6.intersection(s7))"
   ]
  },
  {
   "cell_type": "code",
   "execution_count": 9,
   "metadata": {},
   "outputs": [
    {
     "name": "stdout",
     "output_type": "stream",
     "text": [
      "set()\n"
     ]
    }
   ],
   "source": [
    "s10 = {14, 15}\n",
    "print(s6.intersection(s10))"
   ]
  },
  {
   "cell_type": "code",
   "execution_count": 11,
   "metadata": {},
   "outputs": [
    {
     "name": "stdout",
     "output_type": "stream",
     "text": [
      "False\n",
      "False\n",
      "True\n",
      "False\n",
      "True\n"
     ]
    }
   ],
   "source": [
    "h1 = {'a','b','c','d'}\n",
    "h2 = {'c','e'}\n",
    "h3 = {'c','a'}\n",
    "print(h1<=h2)\n",
    "print(h2<=h1)\n",
    "print(h3<=h1)\n",
    "print(h1.issubset(h3))\n",
    "print(h3.issubset(h1))"
   ]
  },
  {
   "cell_type": "code",
   "execution_count": null,
   "metadata": {},
   "outputs": [],
   "source": []
  }
 ],
 "metadata": {
  "kernelspec": {
   "display_name": "Python 3",
   "language": "python",
   "name": "python3"
  },
  "language_info": {
   "codemirror_mode": {
    "name": "ipython",
    "version": 3
   },
   "file_extension": ".py",
   "mimetype": "text/x-python",
   "name": "python",
   "nbconvert_exporter": "python",
   "pygments_lexer": "ipython3",
   "version": "3.7.6"
  }
 },
 "nbformat": 4,
 "nbformat_minor": 4
}
