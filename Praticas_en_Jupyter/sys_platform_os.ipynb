{
 "cells": [
  {
   "cell_type": "code",
   "execution_count": 2,
   "metadata": {},
   "outputs": [],
   "source": [
    "import platform\n",
    "import sys\n",
    "import os\n"
   ]
  },
  {
   "cell_type": "code",
   "execution_count": 4,
   "metadata": {},
   "outputs": [
    {
     "name": "stdout",
     "output_type": "stream",
     "text": [
      "proceso id: 21952\n"
     ]
    }
   ],
   "source": [
    "print(\"proceso id:\", os.getpid())"
   ]
  },
  {
   "cell_type": "code",
   "execution_count": 3,
   "metadata": {},
   "outputs": [
    {
     "name": "stdout",
     "output_type": "stream",
     "text": [
      "Parent process: 21404\n"
     ]
    }
   ],
   "source": [
    "print('Parent process: %s' % os.getppid())"
   ]
  },
  {
   "cell_type": "code",
   "execution_count": 3,
   "metadata": {},
   "outputs": [
    {
     "name": "stdout",
     "output_type": "stream",
     "text": [
      "proceso id: 21952\n",
      "Parent process: 21404\n"
     ]
    }
   ],
   "source": [
    "print(\"proceso id:\", os.getpid())\n",
    "print('Parent process: %s' % os.getppid())"
   ]
  },
  {
   "cell_type": "code",
   "execution_count": 5,
   "metadata": {},
   "outputs": [
    {
     "name": "stdout",
     "output_type": "stream",
     "text": [
      "Machine network name: DellPeterjoking\n",
      "Python version: 3.7.6\n",
      "System: Windows\n"
     ]
    }
   ],
   "source": [
    "print(\"Machine network name:\", platform.node())\n",
    "print(\"Python version:\", platform.python_version())\n",
    "print(\"System:\", platform.system())"
   ]
  },
  {
   "cell_type": "code",
   "execution_count": 6,
   "metadata": {},
   "outputs": [
    {
     "data": {
      "text/plain": [
       "<function __dir__>"
      ]
     },
     "execution_count": 6,
     "metadata": {},
     "output_type": "execute_result"
    }
   ],
   "source": [
    "platform.__dir__\n"
   ]
  },
  {
   "cell_type": "code",
   "execution_count": 7,
   "metadata": {},
   "outputs": [
    {
     "name": "stdout",
     "output_type": "stream",
     "text": [
      " This module tries to retrieve as much platform-identifying data as\n",
      "    possible. It makes this information available via function APIs.\n",
      "\n",
      "    If called from the command line, it prints the platform\n",
      "    information concatenated as single string to stdout. The output\n",
      "    format is useable as part of a filename.\n",
      "\n",
      "\n"
     ]
    }
   ],
   "source": [
    "print(platform.__doc__)"
   ]
  },
  {
   "cell_type": "code",
   "execution_count": 8,
   "metadata": {},
   "outputs": [
    {
     "data": {
      "text/plain": [
       "['__name__',\n",
       " '__doc__',\n",
       " '__package__',\n",
       " '__loader__',\n",
       " '__spec__',\n",
       " '__file__',\n",
       " '__cached__',\n",
       " '__builtins__',\n",
       " '__copyright__',\n",
       " '__version__',\n",
       " 'collections',\n",
       " 'sys',\n",
       " 'os',\n",
       " 're',\n",
       " 'subprocess',\n",
       " 'warnings',\n",
       " 'DEV_NULL',\n",
       " '_UNIXCONFDIR',\n",
       " '_ver_stages',\n",
       " '_component_re',\n",
       " '_comparable_version',\n",
       " '_libc_search',\n",
       " 'libc_ver',\n",
       " '_dist_try_harder',\n",
       " '_release_filename',\n",
       " '_lsb_release_version',\n",
       " '_release_version',\n",
       " '_supported_dists',\n",
       " '_parse_release_file',\n",
       " 'linux_distribution',\n",
       " '_linux_distribution',\n",
       " 'dist',\n",
       " 'popen',\n",
       " '_norm_version',\n",
       " '_ver_output',\n",
       " '_syscmd_ver',\n",
       " '_WIN32_CLIENT_RELEASES',\n",
       " '_WIN32_SERVER_RELEASES',\n",
       " 'win32_ver',\n",
       " '_mac_ver_xml',\n",
       " 'mac_ver',\n",
       " '_java_getprop',\n",
       " 'java_ver',\n",
       " 'system_alias',\n",
       " '_platform',\n",
       " '_node',\n",
       " '_follow_symlinks',\n",
       " '_syscmd_uname',\n",
       " '_syscmd_file',\n",
       " '_default_architecture',\n",
       " 'architecture',\n",
       " 'uname_result',\n",
       " '_uname_cache',\n",
       " 'uname',\n",
       " 'system',\n",
       " 'node',\n",
       " 'release',\n",
       " 'version',\n",
       " 'machine',\n",
       " 'processor',\n",
       " '_sys_version_parser',\n",
       " '_ironpython_sys_version_parser',\n",
       " '_ironpython26_sys_version_parser',\n",
       " '_pypy_sys_version_parser',\n",
       " '_sys_version_cache',\n",
       " '_sys_version',\n",
       " 'python_implementation',\n",
       " 'python_version',\n",
       " 'python_version_tuple',\n",
       " 'python_branch',\n",
       " 'python_revision',\n",
       " 'python_build',\n",
       " 'python_compiler',\n",
       " '_platform_cache',\n",
       " 'platform']"
      ]
     },
     "execution_count": 8,
     "metadata": {},
     "output_type": "execute_result"
    }
   ],
   "source": [
    "platform.__dir__()"
   ]
  },
  {
   "cell_type": "code",
   "execution_count": 9,
   "metadata": {},
   "outputs": [
    {
     "name": "stdout",
     "output_type": "stream",
     "text": [
      "AMD64\n"
     ]
    }
   ],
   "source": [
    "print(platform.machine())"
   ]
  },
  {
   "cell_type": "code",
   "execution_count": 10,
   "metadata": {},
   "outputs": [
    {
     "name": "stdout",
     "output_type": "stream",
     "text": [
      "Intel64 Family 6 Model 69 Stepping 1, GenuineIntel\n"
     ]
    }
   ],
   "source": [
    "print(platform.processor())"
   ]
  },
  {
   "cell_type": "code",
   "execution_count": 14,
   "metadata": {},
   "outputs": [
    {
     "name": "stdout",
     "output_type": "stream",
     "text": [
      "['C:\\\\Users\\\\Pedro\\\\Nuevo\\\\Praticas_en_Jupyter', 'C:\\\\Users\\\\Pedro\\\\anaconda3\\\\python37.zip', 'C:\\\\Users\\\\Pedro\\\\anaconda3\\\\DLLs', 'C:\\\\Users\\\\Pedro\\\\anaconda3\\\\lib', 'C:\\\\Users\\\\Pedro\\\\anaconda3', '', 'C:\\\\Users\\\\Pedro\\\\AppData\\\\Roaming\\\\Python\\\\Python37\\\\site-packages', 'C:\\\\Users\\\\Pedro\\\\anaconda3\\\\lib\\\\site-packages', 'C:\\\\Users\\\\Pedro\\\\anaconda3\\\\lib\\\\site-packages\\\\win32', 'C:\\\\Users\\\\Pedro\\\\anaconda3\\\\lib\\\\site-packages\\\\win32\\\\lib', 'C:\\\\Users\\\\Pedro\\\\anaconda3\\\\lib\\\\site-packages\\\\Pythonwin', 'C:\\\\Users\\\\Pedro\\\\anaconda3\\\\lib\\\\site-packages\\\\IPython\\\\extensions', 'C:\\\\Users\\\\Pedro\\\\.ipython']\n",
      "['C:\\\\Users\\\\Pedro\\\\anaconda3\\\\lib\\\\site-packages\\\\ipykernel_launcher.py', '-f', 'C:\\\\Users\\\\Pedro\\\\AppData\\\\Roaming\\\\jupyter\\\\runtime\\\\kernel-afb6e038-4f99-4101-96ad-83901a2f5c73.json']\n"
     ]
    }
   ],
   "source": [
    "print(sys.path)\n",
    "print(sys.argv)"
   ]
  },
  {
   "cell_type": "code",
   "execution_count": 13,
   "metadata": {},
   "outputs": [
    {
     "name": "stdout",
     "output_type": "stream",
     "text": [
      "Pedro\n"
     ]
    }
   ],
   "source": [
    "print(os.environ[\"USERNAME\"])"
   ]
  },
  {
   "cell_type": "code",
   "execution_count": 15,
   "metadata": {},
   "outputs": [
    {
     "name": "stdout",
     "output_type": "stream",
     "text": [
      "WindowsPath('.')\n"
     ]
    }
   ],
   "source": [
    "import pathlib\n",
    "path = pathlib.Path()\n",
    "print(repr(path))"
   ]
  },
  {
   "cell_type": "code",
   "execution_count": null,
   "metadata": {},
   "outputs": [],
   "source": []
  }
 ],
 "metadata": {
  "kernelspec": {
   "display_name": "Python 3",
   "language": "python",
   "name": "python3"
  },
  "language_info": {
   "codemirror_mode": {
    "name": "ipython",
    "version": 3
   },
   "file_extension": ".py",
   "mimetype": "text/x-python",
   "name": "python",
   "nbconvert_exporter": "python",
   "pygments_lexer": "ipython3",
   "version": "3.7.6"
  }
 },
 "nbformat": 4,
 "nbformat_minor": 4
}
