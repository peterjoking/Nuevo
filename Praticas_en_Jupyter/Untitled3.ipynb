{
 "cells": [
  {
   "cell_type": "code",
   "execution_count": 1,
   "metadata": {},
   "outputs": [
    {
     "name": "stdout",
     "output_type": "stream",
     "text": [
      "True\n",
      "4\n"
     ]
    }
   ],
   "source": [
    "#In this exercise, you will implement the binary search algorithm in Python:\n",
    "\n",
    "\n",
    "lista = [2, 3, 5, 8, 11, 12, 18]\n",
    "\n",
    "search_for = 11\n",
    "\n",
    "slice_start = 0\n",
    "slice_end = len(lista) - 1 \n",
    "\n",
    "found = False\n",
    "\n",
    "while slice_start <= slice_end and not found:\n",
    "    location = (slice_start + slice_end) // 2\n",
    "    if lista[location] == search_for:\n",
    "        found = True\n",
    "    else:\n",
    "        if search_for < lista[location]:\n",
    "            slice_end = location - 1\n",
    "        else:\n",
    "            slice_start = location + 1\n",
    "\n",
    "print(found)\n",
    "print(location)\n",
    "#You should get the following output:\n",
    "#True\n",
    "#4"
   ]
  },
  {
   "cell_type": "code",
   "execution_count": null,
   "metadata": {},
   "outputs": [],
   "source": []
  },
  {
   "cell_type": "code",
   "execution_count": null,
   "metadata": {},
   "outputs": [],
   "source": []
  }
 ],
 "metadata": {
  "kernelspec": {
   "display_name": "Python 3",
   "language": "python",
   "name": "python3"
  },
  "language_info": {
   "name": ""
  }
 },
 "nbformat": 4,
 "nbformat_minor": 4
}
