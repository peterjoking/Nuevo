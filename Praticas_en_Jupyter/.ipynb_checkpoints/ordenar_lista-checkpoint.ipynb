{
 "cells": [
  {
   "cell_type": "code",
   "execution_count": 10,
   "metadata": {},
   "outputs": [
    {
     "name": "stdin",
     "output_type": "stream",
     "text": [
      "ingrese la cantidad de elementos que tendrá la lista:  3\n",
      "ingrese los numeros:  5\n",
      "ingrese los numeros:  3\n",
      "ingrese los numeros:  8\n"
     ]
    },
    {
     "name": "stdout",
     "output_type": "stream",
     "text": [
      "[5, 3, 8]\n",
      "nueva lista ordenada: [3, 5, 8]\n"
     ]
    }
   ],
   "source": [
    "#ordenar lista\n",
    "numero_lista = []\n",
    "cantidad = int(input(\"ingrese la cantidad de elementos que tendrá la lista: \"))\n",
    "for i in range(cantidad):\n",
    "         numeros_ingresados = int(input(\"ingrese los numeros: \"))\n",
    "         numero_lista.append(numeros_ingresados)\n",
    "    \n",
    "print(numero_lista)    \n",
    "\n",
    "cambio = True\n",
    "while cambio:\n",
    "    cambio = False\n",
    "    for i in range(len(numero_lista) - 1):\n",
    "         if numero_lista[i] > numero_lista[i+1]:\n",
    "                numero_lista[i], numero_lista[i+1] = numero_lista[i+1], numero_lista[i]\n",
    "                cambio = True\n",
    "print(\"nueva lista ordenada: {}\".format(numero_lista))\n"
   ]
  },
  {
   "cell_type": "code",
   "execution_count": null,
   "metadata": {},
   "outputs": [],
   "source": []
  },
  {
   "cell_type": "code",
   "execution_count": null,
   "metadata": {},
   "outputs": [],
   "source": []
  }
 ],
 "metadata": {
  "kernelspec": {
   "display_name": "Python 3",
   "language": "python",
   "name": "python3"
  },
  "language_info": {
   "codemirror_mode": {
    "name": "ipython",
    "version": 3
   },
   "file_extension": ".py",
   "mimetype": "text/x-python",
   "name": "python",
   "nbconvert_exporter": "python",
   "pygments_lexer": "ipython3",
   "version": "3.7.6"
  }
 },
 "nbformat": 4,
 "nbformat_minor": 4
}
