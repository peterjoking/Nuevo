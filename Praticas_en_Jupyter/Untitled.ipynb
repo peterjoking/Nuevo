{
 "cells": [
  {
   "cell_type": "code",
   "execution_count": 4,
   "metadata": {},
   "outputs": [
    {
     "name": "stdin",
     "output_type": "stream",
     "text": [
      "Ingrese un número que yo diré cuantos digitos tiene: \n",
      " 1\n"
     ]
    },
    {
     "name": "stdout",
     "output_type": "stream",
     "text": [
      "Tu número originar es 1\n",
      "La cantidad de dígitos que tiene es de 1\n"
     ]
    }
   ],
   "source": [
    "user_entrada = int(input(\"Ingrese un número que yo diré cuantos digitos tiene: \\n\"))\n",
    "user_entrada = abs(user_entrada)\n",
    "print(\"Tu número originar es {}\".format(user_entrada))\n",
    "\n",
    "contador = 0\n",
    "while user_entrada >0:\n",
    "    user_entrada //=10\n",
    "    contador +=1\n",
    "    \n",
    "print (\"La cantidad de dígitos que tiene es de {}\".format(contador))\n"
   ]
  },
  {
   "cell_type": "code",
   "execution_count": null,
   "metadata": {},
   "outputs": [],
   "source": []
  },
  {
   "cell_type": "code",
   "execution_count": null,
   "metadata": {},
   "outputs": [],
   "source": []
  }
 ],
 "metadata": {
  "kernelspec": {
   "display_name": "Python 3",
   "language": "python",
   "name": "python3"
  },
  "language_info": {
   "codemirror_mode": {
    "name": "ipython",
    "version": 3
   },
   "file_extension": ".py",
   "mimetype": "text/x-python",
   "name": "python",
   "nbconvert_exporter": "python",
   "pygments_lexer": "ipython3",
   "version": "3.7.6"
  }
 },
 "nbformat": 4,
 "nbformat_minor": 4
}
