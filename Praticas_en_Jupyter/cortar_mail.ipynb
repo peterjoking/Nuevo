{
 "cells": [
  {
   "cell_type": "code",
   "execution_count": 4,
   "metadata": {},
   "outputs": [
    {
     "name": "stdin",
     "output_type": "stream",
     "text": [
      "ingrese un email burpeter@gmail.com\n"
     ]
    },
    {
     "name": "stdout",
     "output_type": "stream",
     "text": [
      "el resultado del split es: ['burpeter', 'gmail.com']\n",
      "user: burpeter\n",
      "dominio: gmail.com\n"
     ]
    }
   ],
   "source": [
    "a = str(input(\"ingrese un email\"))\n",
    "part = a.split('@')\n",
    "print('el resultado del split es:',part)\n",
    "print('user: {}'.format(part[0]))\n",
    "print('dominio: {}'.format(part[1]))"
   ]
  },
  {
   "cell_type": "code",
   "execution_count": 1,
   "metadata": {},
   "outputs": [
    {
     "name": "stdin",
     "output_type": "stream",
     "text": [
      "ingrese un email burpeter@gmail.com\n"
     ]
    },
    {
     "name": "stdout",
     "output_type": "stream",
     "text": [
      "('burpeter', '@', 'gmail.com')\n"
     ]
    }
   ],
   "source": [
    "#otra forma:\n",
    "\n",
    "b= str(input(\"ingrese un email\"))\n",
    "part1 = b.partition('@')\n",
    "print(part1)"
   ]
  },
  {
   "cell_type": "code",
   "execution_count": 2,
   "metadata": {},
   "outputs": [
    {
     "name": "stdout",
     "output_type": "stream",
     "text": [
      "user: burpeter\n",
      "dominio: gmail.com\n"
     ]
    }
   ],
   "source": [
    "print('user: {}'.format(part1[0]))\n",
    "print('dominio: {}'.format(part1[2]))"
   ]
  },
  {
   "cell_type": "code",
   "execution_count": 3,
   "metadata": {},
   "outputs": [
    {
     "name": "stdin",
     "output_type": "stream",
     "text": [
      "ingrese un email burpeter@gmail.com\n"
     ]
    },
    {
     "name": "stdout",
     "output_type": "stream",
     "text": [
      "burpeter@gmail.com\n",
      "el nombre de usuario es burpeter y el dominio gmail.com\n"
     ]
    }
   ],
   "source": [
    "#otra forma\n",
    "c= str(input(\"ingrese un email\"))\n",
    "print(c)\n",
    "username = c[:c.index('@')]\n",
    "domain = c[c.index('@')+1:]\n",
    "print('el nombre de usuario es: %s y el dominio: %s' % (username,domain))"
   ]
  },
  {
   "cell_type": "code",
   "execution_count": null,
   "metadata": {},
   "outputs": [],
   "source": []
  }
 ],
 "metadata": {
  "kernelspec": {
   "display_name": "Python 3",
   "language": "python",
   "name": "python3"
  },
  "language_info": {
   "codemirror_mode": {
    "name": "ipython",
    "version": 3
   },
   "file_extension": ".py",
   "mimetype": "text/x-python",
   "name": "python",
   "nbconvert_exporter": "python",
   "pygments_lexer": "ipython3",
   "version": "3.7.6"
  }
 },
 "nbformat": 4,
 "nbformat_minor": 4
}
