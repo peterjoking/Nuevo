{
 "cells": [
  {
   "cell_type": "code",
   "execution_count": 1,
   "metadata": {},
   "outputs": [],
   "source": [
    "import math\n",
    "import random\n",
    "random.seed(0)"
   ]
  },
  {
   "cell_type": "code",
   "execution_count": 9,
   "metadata": {},
   "outputs": [
    {
     "name": "stdout",
     "output_type": "stream",
     "text": [
      "[3.13892, 3.13738, 3.1376133333333334, 3.13986, 3.140376, 3.1402466666666666, 3.1407314285714287, 3.141295, 3.1420755555555555]\n",
      "[-0.0026726535897929615, -0.00421265358979328, -0.003979320256459751, -0.0017326535897930206, -0.0012166535897932818, -0.0013459869231264854, -0.0008612250183643866, -0.0002976535897931676, 0.0004829019657623945]\n"
     ]
    }
   ],
   "source": [
    "def approximate_pi():\n",
    "    total_points = 0\n",
    "    within_circle = 0\n",
    "    for i in range (1000001):\n",
    "        x = random.random()\n",
    "        y = random.random()\n",
    "        total_points += 1\n",
    "        \n",
    "        distance = math.sqrt(x**2+y**2)\n",
    "        if distance < 1:\n",
    "            within_circle += 1\n",
    "        if total_points % 100000 == 0:\n",
    "                pi_estimate = 4 * within_circle / total_points\n",
    "                if total_points == 1000000:\n",
    "                    return pi_estimate\n",
    "                else:\n",
    "                    yield pi_estimate\n",
    "estimates = [estimate for estimate in approximate_pi()]\n",
    "errors = [estimate - math.pi for estimate in estimates]\n",
    "print(estimates)\n",
    "print(errors)"
   ]
  },
  {
   "cell_type": "code",
   "execution_count": null,
   "metadata": {},
   "outputs": [],
   "source": []
  }
 ],
 "metadata": {
  "kernelspec": {
   "display_name": "Python 3",
   "language": "python",
   "name": "python3"
  },
  "language_info": {
   "codemirror_mode": {
    "name": "ipython",
    "version": 3
   },
   "file_extension": ".py",
   "mimetype": "text/x-python",
   "name": "python",
   "nbconvert_exporter": "python",
   "pygments_lexer": "ipython3",
   "version": "3.7.6"
  }
 },
 "nbformat": 4,
 "nbformat_minor": 4
}
